{
  "nbformat": 4,
  "nbformat_minor": 0,
  "metadata": {
    "colab": {
      "name": "Lambda DS Precourse  - Math with Python",
      "provenance": [],
      "collapsed_sections": [],
      "include_colab_link": true
    },
    "kernelspec": {
      "name": "python3",
      "display_name": "Python 3"
    }
  },
  "cells": [
    {
      "cell_type": "markdown",
      "metadata": {
        "id": "view-in-github",
        "colab_type": "text"
      },
      "source": [
        "<a href=\"https://colab.research.google.com/github/RMDircio/RMDircio.github.io/blob/master/Lambda_DS_Precourse_Math_with_Python.ipynb\" target=\"_parent\"><img src=\"https://colab.research.google.com/assets/colab-badge.svg\" alt=\"Open In Colab\"/></a>"
      ]
    },
    {
      "cell_type": "markdown",
      "metadata": {
        "id": "oxP042Z0bZqn",
        "colab_type": "text"
      },
      "source": [
        ""
      ]
    },
    {
      "cell_type": "code",
      "metadata": {
        "id": "m7NB_6f2byan",
        "colab_type": "code",
        "colab": {}
      },
      "source": [
        ""
      ],
      "execution_count": 0,
      "outputs": []
    },
    {
      "cell_type": "markdown",
      "metadata": {
        "id": "f0J3rX6fb-c4",
        "colab_type": "text"
      },
      "source": [
        "## What is Python, anyway?\n",
        "Python is a general purpose, high-level programming language. In plain English: *you can build almost anything with Python. It's **really** versatile*\n",
        "\n",
        "## Why should I learn it?\n",
        "Beyond its versitility, a couple of reasons:\n",
        "\n",
        "1.   **Open Source** - Which means it's free! More importantly, it means that thousands of people have contributed to it over time, continually improving its functionalithy and usablity.\n",
        "2.   **Packages & Libraries** - Contributions to Python often take the form of \"packages\" or \"libraries\". You can think of these as collections of Python code that are designed to tackle specific problems. Many have been created for data science specifically!\n",
        "\n"
      ]
    },
    {
      "cell_type": "markdown",
      "metadata": {
        "id": "r9OyLbbDdwFP",
        "colab_type": "text"
      },
      "source": [
        "#Doing Math with Python"
      ]
    },
    {
      "cell_type": "markdown",
      "metadata": {
        "id": "StoujdaOb4o9",
        "colab_type": "text"
      },
      "source": [
        ""
      ]
    },
    {
      "cell_type": "code",
      "metadata": {
        "id": "Lz1BXWpPd58N",
        "colab_type": "code",
        "colab": {
          "base_uri": "https://localhost:8080/",
          "height": 34
        },
        "outputId": "8bf18b35-447d-44ae-9f64-70c2b9446f0b"
      },
      "source": [
        "# Click anywhere in the cell\n",
        "# To run the cell: Click the play button or Shift + Enter.\n",
        "# Addtion of 23 and 17\n",
        "23 + 17"
      ],
      "execution_count": 3,
      "outputs": [
        {
          "output_type": "execute_result",
          "data": {
            "text/plain": [
              "40"
            ]
          },
          "metadata": {
            "tags": []
          },
          "execution_count": 3
        }
      ]
    },
    {
      "cell_type": "markdown",
      "metadata": {
        "id": "e_D5XUvCeSvR",
        "colab_type": "text"
      },
      "source": [
        "## Arithmetic Operators in Python\n",
        "We can use Python to do math if we know the different symbols that represent math operations. **Operators** have a specific functinality tied to them. Additon is \" + \" Divsion is \" / \" ect.\n",
        "\n",
        "*   Additon    +\n",
        "*   Division    /\n"
      ]
    },
    {
      "cell_type": "markdown",
      "metadata": {
        "id": "h-as-5phfq2q",
        "colab_type": "text"
      },
      "source": [
        "##Addition Operator\n",
        "Plus sign + does addition in Python"
      ]
    },
    {
      "cell_type": "code",
      "metadata": {
        "id": "G0NtCerHf6-Z",
        "colab_type": "code",
        "colab": {
          "base_uri": "https://localhost:8080/",
          "height": 34
        },
        "outputId": "a7bbb7c8-2203-4d2e-d367-4aae029b1940"
      },
      "source": [
        "4 + 10"
      ],
      "execution_count": 4,
      "outputs": [
        {
          "output_type": "execute_result",
          "data": {
            "text/plain": [
              "14"
            ]
          },
          "metadata": {
            "tags": []
          },
          "execution_count": 4
        }
      ]
    },
    {
      "cell_type": "markdown",
      "metadata": {
        "id": "IikMGoOYgMET",
        "colab_type": "text"
      },
      "source": [
        "##Subtraction Operator\n",
        "Minus sign - does subtraction in Python"
      ]
    },
    {
      "cell_type": "code",
      "metadata": {
        "id": "FqczFuj5gVFP",
        "colab_type": "code",
        "colab": {
          "base_uri": "https://localhost:8080/",
          "height": 34
        },
        "outputId": "25151325-c09d-4b1a-ee9c-d17a266f8be7"
      },
      "source": [
        "10 - 4"
      ],
      "execution_count": 5,
      "outputs": [
        {
          "output_type": "execute_result",
          "data": {
            "text/plain": [
              "6"
            ]
          },
          "metadata": {
            "tags": []
          },
          "execution_count": 5
        }
      ]
    },
    {
      "cell_type": "markdown",
      "metadata": {
        "id": "FKe__CgZgcSo",
        "colab_type": "text"
      },
      "source": [
        "##Multiplication Operator\n",
        "Asterisk * does multiplication in Python"
      ]
    },
    {
      "cell_type": "code",
      "metadata": {
        "id": "3OvBjZlngjuF",
        "colab_type": "code",
        "colab": {
          "base_uri": "https://localhost:8080/",
          "height": 34
        },
        "outputId": "64797bb5-294c-4070-847e-5898d33162f8"
      },
      "source": [
        "10 * 4"
      ],
      "execution_count": 6,
      "outputs": [
        {
          "output_type": "execute_result",
          "data": {
            "text/plain": [
              "40"
            ]
          },
          "metadata": {
            "tags": []
          },
          "execution_count": 6
        }
      ]
    },
    {
      "cell_type": "markdown",
      "metadata": {
        "id": "nmInrEdognaG",
        "colab_type": "text"
      },
      "source": [
        "##Division Operator\n",
        "Forward slash / does divison in Python"
      ]
    },
    {
      "cell_type": "code",
      "metadata": {
        "id": "6QRTBJS8gy4S",
        "colab_type": "code",
        "colab": {
          "base_uri": "https://localhost:8080/",
          "height": 34
        },
        "outputId": "f24d7f2d-b09f-4dfb-99f7-2117b46d2a5d"
      },
      "source": [
        "# Answer is not a whole number\n",
        "# Answer is a Float\n",
        "10 / 4"
      ],
      "execution_count": 7,
      "outputs": [
        {
          "output_type": "execute_result",
          "data": {
            "text/plain": [
              "2.5"
            ]
          },
          "metadata": {
            "tags": []
          },
          "execution_count": 7
        }
      ]
    },
    {
      "cell_type": "markdown",
      "metadata": {
        "id": "62_5xNpYhMUh",
        "colab_type": "text"
      },
      "source": [
        "##Exponentiation Operator\n",
        "Two asterisk in a row does exponates in Python.\n",
        "Also is a way to get roots\n",
        "- taking the square root of a number is the same as raising it the 1/2 power."
      ]
    },
    {
      "cell_type": "code",
      "metadata": {
        "id": "Q73_Ahb2hmVE",
        "colab_type": "code",
        "colab": {
          "base_uri": "https://localhost:8080/",
          "height": 34
        },
        "outputId": "9e98aff2-c2ba-4d5e-e428-11e949da0044"
      },
      "source": [
        "2 ** 4"
      ],
      "execution_count": 9,
      "outputs": [
        {
          "output_type": "execute_result",
          "data": {
            "text/plain": [
              "16"
            ]
          },
          "metadata": {
            "tags": []
          },
          "execution_count": 9
        }
      ]
    },
    {
      "cell_type": "code",
      "metadata": {
        "id": "YlXdF27TiTSs",
        "colab_type": "code",
        "colab": {
          "base_uri": "https://localhost:8080/",
          "height": 34
        },
        "outputId": "c8062097-f256-4bd1-abf9-b70f0fa00855"
      },
      "source": [
        "# Get the Square Root of 16\n",
        "# Answer is a Float\n",
        "16 ** .5"
      ],
      "execution_count": 12,
      "outputs": [
        {
          "output_type": "execute_result",
          "data": {
            "text/plain": [
              "4.0"
            ]
          },
          "metadata": {
            "tags": []
          },
          "execution_count": 12
        }
      ]
    },
    {
      "cell_type": "markdown",
      "metadata": {
        "id": "YfkvvVRyhtL7",
        "colab_type": "text"
      },
      "source": [
        "##Modulus Operator\n",
        "Percent sign % shows the remainder *after* division.\n",
        "Mod for short."
      ]
    },
    {
      "cell_type": "code",
      "metadata": {
        "id": "Pe0ZlX01iMWJ",
        "colab_type": "code",
        "colab": {
          "base_uri": "https://localhost:8080/",
          "height": 34
        },
        "outputId": "18c505f3-d1c3-4c19-afa8-710c9e8b903a"
      },
      "source": [
        "# How many times does 4 go into 10?\n",
        "# Answer is the remainder\n",
        "# Can be used to find items to *skip*\n",
        "10 % 4"
      ],
      "execution_count": 14,
      "outputs": [
        {
          "output_type": "execute_result",
          "data": {
            "text/plain": [
              "2"
            ]
          },
          "metadata": {
            "tags": []
          },
          "execution_count": 14
        }
      ]
    },
    {
      "cell_type": "markdown",
      "metadata": {
        "id": "RXg5RDogjMWF",
        "colab_type": "text"
      },
      "source": [
        "##Integer Division Operator\n",
        "Two forward slashes does integer division. Answers are rounded **Down** to the nearest whole number."
      ]
    },
    {
      "cell_type": "code",
      "metadata": {
        "id": "y5AqbzzNjuqx",
        "colab_type": "code",
        "colab": {
          "base_uri": "https://localhost:8080/",
          "height": 34
        },
        "outputId": "de24368e-0d5d-495f-fdf1-a19d8d2a1512"
      },
      "source": [
        "# True answer is 2.5\n",
        "10 // 4"
      ],
      "execution_count": 15,
      "outputs": [
        {
          "output_type": "execute_result",
          "data": {
            "text/plain": [
              "2"
            ]
          },
          "metadata": {
            "tags": []
          },
          "execution_count": 15
        }
      ]
    },
    {
      "cell_type": "markdown",
      "metadata": {
        "id": "Xq-MbODdkDZ0",
        "colab_type": "text"
      },
      "source": [
        "##Order of Operations\n",
        "PEMDAS is used.\n",
        "\n",
        "\n",
        "1.   Parenthesis\n",
        "2.   Exponates\n",
        "2.   Multiplication & Division\n",
        "1.   Addtion & Subtraction\n",
        "\n",
        "\n",
        "\n",
        "\n",
        "\n"
      ]
    },
    {
      "cell_type": "code",
      "metadata": {
        "id": "qByxJQ-TkrNw",
        "colab_type": "code",
        "colab": {
          "base_uri": "https://localhost:8080/",
          "height": 34
        },
        "outputId": "de5000b9-05f3-409c-b014-c9e75a851877"
      },
      "source": [
        "# 1. 4^2\n",
        "# 2. 3 / (16)\n",
        "# 3. 5 + (0.1875)\n",
        "5 + 3 / 4 ** 2 "
      ],
      "execution_count": 16,
      "outputs": [
        {
          "output_type": "execute_result",
          "data": {
            "text/plain": [
              "5.1875"
            ]
          },
          "metadata": {
            "tags": []
          },
          "execution_count": 16
        }
      ]
    },
    {
      "cell_type": "code",
      "metadata": {
        "id": "0KJPvS3UlB38",
        "colab_type": "code",
        "colab": {
          "base_uri": "https://localhost:8080/",
          "height": 34
        },
        "outputId": "984edc2c-4e7d-4e4d-cef2-9bbf4acebf32"
      },
      "source": [
        "# 1. 4^2\n",
        "# 2. 5 + 3\n",
        "# 3. 8 / 16\n",
        "(5 + 3) / (4 ** 2)"
      ],
      "execution_count": 17,
      "outputs": [
        {
          "output_type": "execute_result",
          "data": {
            "text/plain": [
              "0.5"
            ]
          },
          "metadata": {
            "tags": []
          },
          "execution_count": 17
        }
      ]
    },
    {
      "cell_type": "code",
      "metadata": {
        "id": "BeSKz6uVnLNF",
        "colab_type": "code",
        "colab": {
          "base_uri": "https://localhost:8080/",
          "height": 34
        },
        "outputId": "d3cd8222-6d57-44f7-d926-8042ff319595"
      },
      "source": [
        "# 1. 5 + 3\n",
        "# 2. 8 / 4\n",
        "# 3. 2^2\n",
        "(((5 + 3) / 4) ** 2)"
      ],
      "execution_count": 18,
      "outputs": [
        {
          "output_type": "execute_result",
          "data": {
            "text/plain": [
              "4.0"
            ]
          },
          "metadata": {
            "tags": []
          },
          "execution_count": 18
        }
      ]
    },
    {
      "cell_type": "code",
      "metadata": {
        "id": "T0cGjLYQngMn",
        "colab_type": "code",
        "colab": {}
      },
      "source": [
        ""
      ],
      "execution_count": 0,
      "outputs": []
    }
  ]
}